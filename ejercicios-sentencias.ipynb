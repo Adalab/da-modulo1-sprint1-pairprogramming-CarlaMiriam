{
 "cells": [
  {
   "cell_type": "markdown",
   "metadata": {},
   "source": [
    "1. Verificar si un número es positivo, negativo o cero\n",
    "Descripción: Dado un número, verifica si es positivo, negativo o cero"
   ]
  },
  {
   "cell_type": "code",
   "execution_count": null,
   "metadata": {},
   "outputs": [],
   "source": [
    "numero_ejemplo = input(\"escribe un numero:\")\n",
    "numero = float (numero_ejemplo)\n",
    "\n",
    "if numero == 0:\n",
    "    print(\"es igual\")\n",
    "\n",
    "elif numero < 0:\n",
    "    print(\"es negativo\")\n",
    "    \n",
    "else:\n",
    "    print(\"es positivo\")\n"
   ]
  },
  {
   "cell_type": "markdown",
   "metadata": {},
   "source": [
    "2. Verificar si un número es par o impar\n",
    "Descripción: Dado un número, verifica si es par o impar."
   ]
  },
  {
   "cell_type": "code",
   "execution_count": null,
   "metadata": {},
   "outputs": [],
   "source": [
    "numero = int(input(\"ingresa_un_numero:\"))\n",
    "\n",
    "\n",
    "if numero % 2 == 0:\n",
    "    print(numero, \"es par\")\n",
    "    \n",
    "else:\n",
    "    print(numero, \"es impar\")"
   ]
  },
  {
   "cell_type": "markdown",
   "metadata": {},
   "source": [
    "3. Verificar si un estudiante aprobó o suspendió un examen\n",
    "Descripción: Dada la calificación de un estudiante en un examen, verifica si aprobó o suspendió (si la calificación es mayor o igual a 60 se considera aprobado)."
   ]
  },
  {
   "cell_type": "code",
   "execution_count": null,
   "metadata": {},
   "outputs": [],
   "source": [
    "nota_estudiante = float(input(\"¿Que nota ha sacado?\"))\n",
    "\n",
    "if nota_estudiante >= 60:\n",
    "    print(\"APROBADO\")\n",
    "\n",
    "else:\n",
    "    print(\"SUSPENSO\")"
   ]
  },
  {
   "cell_type": "markdown",
   "metadata": {},
   "source": [
    "4. Calcular el máximo entre dos números\n",
    "Descripción: Dados dos números, encuentra el máximo entre ellos."
   ]
  },
  {
   "cell_type": "code",
   "execution_count": null,
   "metadata": {},
   "outputs": [],
   "source": [
    "x = int(input(\"¿Cual es el primer número que quieres comparar?\"))\n",
    "y = int(input(\"¿Cual es el segundo número que quieres comparar?\"))\n",
    "\n",
    "if  x > y:\n",
    "    print (x, \"es mayor\")\n",
    "    \n",
    "else:\n",
    "    print (y, \"es mayor\")"
   ]
  },
  {
   "cell_type": "markdown",
   "metadata": {},
   "source": [
    "5. Verificar si una letra es una vocal o una consonante\n",
    "Descripción: Dada una letra, verifica si es una vocal o una consonante"
   ]
  },
  {
   "cell_type": "code",
   "execution_count": null,
   "metadata": {},
   "outputs": [],
   "source": [
    "if letra == \"a\":\n",
    "    print (letra, \"es una vocal\")\n",
    "    \n",
    "elif letra == \"e\":\n",
    "    print (letra, \"es una vocal\")\n",
    "    \n",
    "elif letra ==\"i\":\n",
    "    print (letra, \"es una vocal\")\n",
    "    \n",
    "elif letra ==\"o\":\n",
    "    print (letra, \"es una vocal\")\n",
    "    \n",
    "elif letra ==\"u\":\n",
    "    print (letra, \"es una vocal\")\n",
    "    \n",
    "else:\n",
    "    print (letra,\"es una consonante\") "
   ]
  },
  {
   "cell_type": "markdown",
   "metadata": {},
   "source": [
    "6. Calcular el descuento en una compra según el monto total\n",
    "Descripción: Dado el monto total de una compra, calcula el descuento aplicado según las siguientes condiciones: si el monto es mayor o igual a $100, aplica un descuento del 10%; de lo contrario, no aplica ningún descuento."
   ]
  },
  {
   "cell_type": "code",
   "execution_count": null,
   "metadata": {},
   "outputs": [],
   "source": [
    "monto = float(input(\"total de la compra\"))\n",
    "\n",
    "if monto >=100:\n",
    "    precio= monto - monto * 0.1\n",
    "    print (\"el precio con descuento es\", precio)\n",
    "\n",
    "if monto <100:\n",
    "    print(\"no tiene descuento\")"
   ]
  },
  {
   "cell_type": "markdown",
   "metadata": {},
   "source": [
    "7. Verificar si un año es bisiesto o no\n",
    "Descripción: Dado un año, verifica si es bisiesto o no (un año es bisiesto si es divisible entre 4, excepto aquellos divisibles entre 100 pero no entre 400)."
   ]
  },
  {
   "cell_type": "code",
   "execution_count": 3,
   "metadata": {},
   "outputs": [
    {
     "name": "stdout",
     "output_type": "stream",
     "text": [
      "False\n"
     ]
    }
   ],
   "source": [
    "año = int(input(\"Elige un año\"))\n",
    "\n",
    "if año % 4 == 0:\n",
    "    if año % 100 == 0:\n",
    "        if año % 400 == 0:\n",
    "            print(\"True\")\n",
    "        else:\n",
    "            print(\"False\")\n",
    "    else:\n",
    "        print(\"True\")\n",
    "else:\n",
    "    print(\"False\")"
   ]
  },
  {
   "cell_type": "markdown",
   "metadata": {},
   "source": [
    "8. Asignar una categoría a una edad\n",
    "Descripción: Dada una edad, asigna una categoría según las siguientes condiciones: si la edad es menor de 18, la categoría es \"Menor de edad\"; si la edad está entre 18 y 64 (incluyendo ambos), la categoría es \"Adulto\"; de lo contrario, la categoría es \"Adulto mayor\"."
   ]
  },
  {
   "cell_type": "code",
   "execution_count": null,
   "metadata": {},
   "outputs": [],
   "source": [
    "edad = int(input(\"¿Qué edad tienes?\"))\n",
    "\n",
    "if edad < 18:\n",
    "    print (\"Menor de edad\")\n",
    "\n",
    "elif edad >= 18 and edad <= 64:\n",
    "    print (\"Adulto\")\n",
    "    \n",
    "else:\n",
    "    print (\"Adulto mayor\")"
   ]
  },
  {
   "cell_type": "markdown",
   "metadata": {},
   "source": [
    "9. Verificar si tres números forman un triángulo rectángulo\n",
    "Descripción: Dados tres números, verifica si forman un triángulo rectángulo (si se cumple el teorema de Pitágoras)."
   ]
  },
  {
   "cell_type": "code",
   "execution_count": null,
   "metadata": {},
   "outputs": [],
   "source": [
    "lado1 = (input(\"dime la longitud del primer lado del triangulo\"))\n",
    "if lado1.isdigit():\n",
    "    lado1 = int(lado1)\n",
    "else:\n",
    "   while lado1.isdigit() == False:\n",
    "        \n",
    "        lado1 = input(\"TIENE QUE SER UN NUMERO\")\n",
    "\n",
    "        lado1 = int(lado1)\n",
    "\n",
    "lado2 = input(\"Dime la longitud del segundo lado del triangulo\")\n",
    "if lado2.isdigit():\n",
    "    lado2 = int(lado2)\n",
    "    \n",
    "else: \n",
    "    while lado2.isdigit() == False:\n",
    "        lado2 = input(\"TIENE QUE SER UN NUMERO\")\n",
    "\n",
    "        lado2 = int(lado2)\n",
    "\n",
    "\n",
    "lado3 = input(\"Dime la longitud del tercer lado del triangulo\")\n",
    "\n",
    "\n",
    "if lado3.isdigit():\n",
    "    lado3 = int(lado3)\n",
    "    \n",
    "else: \n",
    "    while lado3.isdigit() == False:\n",
    "        lado3 = input(\"TIENE QUE SER UN NUMERO\")\n",
    "\n",
    "        lado3 = int(lado3)\n",
    "    \n",
    "if lado1 == lado2 == lado3:\n",
    "    print(\"Triangulo equilatero\")\n",
    "\n",
    "elif lado1 != lado2 != lado3 and lado1 != lado3:\n",
    "    print(\"Escaleno\")\n",
    "\n",
    "else:\n",
    "    print(\"Isosceles\")"
   ]
  },
  {
   "cell_type": "markdown",
   "metadata": {},
   "source": [
    "10. Asignar una calificación a una puntuación\n",
    "Descripción: Dada una puntuación, asigna una calificación según las siguientes condiciones: si la puntuación es mayor o igual a 90, la calificación es \"A\"; si es mayor o igual a 80, la calificación es \"B\"; si es mayor o igual a 70, la calificación es \"C\"; si es mayor o igual a 60, la calificación es \"D\"; de lo contrario, la calificación es \"F\"."
   ]
  },
  {
   "cell_type": "code",
   "execution_count": null,
   "metadata": {},
   "outputs": [],
   "source": [
    "calificacion = float(input(\"¿Qué nota has sacado?\"))\n",
    "\n",
    "if calificacion >= 90:\n",
    "    print (\"La calificación es A\")\n",
    "    \n",
    "elif calificacion >= 80:\n",
    "    print (\"La calificación es B\")\n",
    "    \n",
    "elif calificacion >= 70:\n",
    "    print (\"La calificación es C\")\n",
    "    \n",
    "elif calificacion >= 60:\n",
    "    print (\"La calificación es D\")\n",
    "    \n",
    "else:\n",
    "    print (\"La Calificación es F\")"
   ]
  },
  {
   "cell_type": "markdown",
   "metadata": {},
   "source": [
    "11. Calcular el índice de masa corporal (IMC) y categorizarlo\n",
    "Descripción: Dados el peso (en kg) y la altura (en metros) de una persona, calcula su IMC y categorízalo según las siguientes condiciones: si el IMC es menor a 18.5, es \"Bajo peso\"; si está entre 18.5 y 24.9 (inclusive), es \"Peso normal\"; si está entre 25 y 29.9 (inclusive), es \"Sobrepeso\"; de lo contrario, es \"Obesidad\"."
   ]
  },
  {
   "cell_type": "code",
   "execution_count": null,
   "metadata": {},
   "outputs": [],
   "source": [
    "peso = float(input(\"Dime tu peso\"))\n",
    "altura = float(input(\"Dime tu altura en metros\"))\n",
    "\n",
    "if peso/ altura**2 < 18.5:\n",
    "    print (\"Bajo peso\")\n",
    "    \n",
    "elif peso/altura**2 >= 18.5 and peso/altura**2 < 24.9:\n",
    "    print (\"Peso normal\")\n",
    "    \n",
    "elif peso/altura**2 >= 25 and peso/altura**2 < 29.9:\n",
    "    print (\"Sobrepeso\")   \n",
    "    \n",
    "elif peso/altura**2> 29.9:\n",
    "    print (\"Obesidad\") "
   ]
  },
  {
   "cell_type": "markdown",
   "metadata": {},
   "source": [
    "12. Calcular el mayor de tres números\n",
    "Descripción: Dados tres números, encuentra el mayor entre ellos.\n"
   ]
  },
  {
   "cell_type": "code",
   "execution_count": null,
   "metadata": {},
   "outputs": [],
   "source": [
    "numero_a = input(\"Dime un número\")\n",
    "numero_b = input(\"Dime otro número\")\n",
    "numero_c = input(\"Dime otro número más\")\n",
    "\n",
    "if numero_a>numero_b:\n",
    "    \n",
    "    if numero_a > numero_c:\n",
    "    \n",
    "        print(\"El numero mayor es\", (numero_a))\n",
    "\n",
    "elif numero_b> numero_c:\n",
    "    \n",
    "    print: (\"El número mayor es\",(numero_b))\n",
    "        \n",
    "else:\n",
    "    \n",
    "    print:(\"El número mayor es\",(numero_c))"
   ]
  },
  {
   "cell_type": "markdown",
   "metadata": {},
   "source": [
    "                                            While\n",
    "\n",
    "1. Calcular la suma de los primeros 10 números naturales utilizando un bucle while\n",
    "Descripción: Utiliza un bucle while para calcular la suma de los primeros 10 números naturales (1 + 2 + 3 + ... + 10)."
   ]
  },
  {
   "cell_type": "code",
   "execution_count": null,
   "metadata": {},
   "outputs": [],
   "source": [
    "suma = 0\n",
    "numero = 1\n",
    "\n",
    "while numero <= 10:\n",
    "    suma += numero\n",
    "    numero += 1\n",
    "\n",
    "    print(suma) "
   ]
  },
  {
   "cell_type": "markdown",
   "metadata": {},
   "source": [
    "2. Juego de adivinanza utilizando un bucle while\n",
    "Descripción: Crea un juego de adivinanza en el que el jugador tiene que adivinar un número secreto (tendrá que ser entre el 0 y el 10). Utiliza un bucle while para permitir múltiples intentos hasta que el jugador adivine correctamente."
   ]
  },
  {
   "cell_type": "code",
   "execution_count": null,
   "metadata": {},
   "outputs": [],
   "source": [
    "import random\n",
    "\n",
    "numero_secreto = random.randint(0, 10)\n",
    "adivinado = False\n",
    "\n",
    "print(\"Bienvenido al juego de adivinanzas. Intenta adivinar un número entre 0 y 10.\")\n",
    "\n",
    "while not adivinado:\n",
    "    entrada_usuario = int(input(\"Por favor, introduce tu adivinanza: \"))\n",
    "    if entrada_usuario == numero_secreto:\n",
    "        print(\"¡Felicidades! Has adivinado el número.\")\n",
    "        adivinado = True\n",
    "    elif entrada_usuario < numero_secreto:\n",
    "        print(\"¡Ups! Tu adivinanza es demasiado baja. Intenta de nuevo.\")\n",
    "    else:\n",
    "        print(\"¡Ups! Tu adivinanza es demasiado alta. Intenta de nuevo.\")"
   ]
  }
 ],
 "metadata": {
  "kernelspec": {
   "display_name": "base",
   "language": "python",
   "name": "python3"
  },
  "language_info": {
   "codemirror_mode": {
    "name": "ipython",
    "version": 3
   },
   "file_extension": ".py",
   "mimetype": "text/x-python",
   "name": "python",
   "nbconvert_exporter": "python",
   "pygments_lexer": "ipython3",
   "version": "3.9.7"
  }
 },
 "nbformat": 4,
 "nbformat_minor": 2
}
