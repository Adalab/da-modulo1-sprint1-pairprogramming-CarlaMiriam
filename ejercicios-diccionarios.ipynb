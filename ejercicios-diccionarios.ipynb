{
 "cells": [
  {
   "cell_type": "markdown",
   "metadata": {},
   "source": [
    "Ejercicios diccionarios\n",
    "\n",
    "Crear un diccionario vacío\n",
    "Descripción: Crea un diccionario vacío sin ningún par clave-valor."
   ]
  },
  {
   "cell_type": "code",
   "execution_count": 32,
   "metadata": {},
   "outputs": [
    {
     "name": "stdout",
     "output_type": "stream",
     "text": [
      "<class 'dict'>\n"
     ]
    }
   ],
   "source": [
    "mascotas = {}\n",
    "print(type(mascotas))"
   ]
  },
  {
   "cell_type": "markdown",
   "metadata": {},
   "source": [
    "Crear un diccionario con elementos\n",
    "Descripción: Crea un diccionario con pares clave-valor predefinidos. Definir el diccionario con las claves y valores que querais. NOTA El diccionario debe tener al menos 5 pares de clave:valor."
   ]
  },
  {
   "cell_type": "code",
   "execution_count": 4,
   "metadata": {},
   "outputs": [
    {
     "name": "stdout",
     "output_type": "stream",
     "text": [
      "{'Bigotes': 'Hamster', 'Bolacha': 'Perro', 'Nemo': 'Pez', 'Klaus': 'Tortuga', 'Taquito': 'Gato'}\n"
     ]
    }
   ],
   "source": [
    "mascotas = {'Bigotes': 'Hamster', \n",
    "            'Bolacha': 'Perro', \n",
    "            'Nemo': 'Pez',\n",
    "            'Klaus': 'Tortuga', \n",
    "            'Taquito': 'Gato'}\n",
    "\n",
    "print(mascotas)\n"
   ]
  },
  {
   "cell_type": "markdown",
   "metadata": {},
   "source": [
    "Acceder al valor de una clave en un diccionario\n",
    "Descripción: Usando el diccionario creado en el paso anterior, obtén el valor correspondiente a una clave específica que indique el usuario (debereis usar la función input() para preguntar al usuario)."
   ]
  },
  {
   "cell_type": "code",
   "execution_count": 18,
   "metadata": {},
   "outputs": [
    {
     "name": "stdout",
     "output_type": "stream",
     "text": [
      "la clave que estás buscando es Perro\n"
     ]
    }
   ],
   "source": [
    "mascotas = {'Bigotes': 'Hamster', \n",
    "            'Bolacha': 'Perro', \n",
    "            'Nemo': 'Pez',\n",
    "            'Klaus': 'Tortuga', \n",
    "            'Taquito': 'Gato'}\n",
    "\n",
    "key = input( 'Ingrese la clave que quiere obtener: ')\n",
    "mascotas.get(key)\n",
    "\n",
    "print('la clave que estás buscando es', mascotas.get(key))\n",
    " "
   ]
  },
  {
   "cell_type": "markdown",
   "metadata": {},
   "source": [
    "Agregar un nuevo par clave-valor a un diccionario\n",
    "Descripción: Usando el diccionario creado en el ejercicio 2, agrega un nuevo par clave-valor."
   ]
  },
  {
   "cell_type": "code",
   "execution_count": 6,
   "metadata": {},
   "outputs": [
    {
     "name": "stdout",
     "output_type": "stream",
     "text": [
      "{'Bigotes': 'Hamster', 'Bolacha': 'Perro', 'Nemo': 'Pez', 'Klaus': 'Tortuga', 'Taquito': 'Gato', 'Parches': 'Perro'}\n"
     ]
    }
   ],
   "source": [
    "mascotas.update({\"Parches\" : \"Perro\"})\n",
    "print(mascotas)"
   ]
  },
  {
   "cell_type": "markdown",
   "metadata": {},
   "source": [
    "Actualizar el valor de una clave en un diccionario\n",
    "Descripción: Usando el diccionario creado en el ejercicio 2, actualiza el valor correspondiente a una clave existente."
   ]
  },
  {
   "cell_type": "code",
   "execution_count": 20,
   "metadata": {},
   "outputs": [
    {
     "name": "stdout",
     "output_type": "stream",
     "text": [
      "{'Bigotes': 'Hamster', 'Bolacha': 'T-Rex', 'Nemo': 'Pez', 'Klaus': 'Tortuga', 'Taquito': 'Gato'}\n"
     ]
    }
   ],
   "source": [
    "mascotas['Bolacha']= 'T-Rex'\n",
    "\n",
    "print(mascotas)"
   ]
  },
  {
   "cell_type": "markdown",
   "metadata": {},
   "source": [
    "Eliminar un par clave-valor de un diccionario\n",
    "Descripción: Usando el diccionario creado en el ejercicio 2, elimina un par clave-valor específico que indique el usuario (debereis usar la función input() para preguntar al usuario)."
   ]
  },
  {
   "cell_type": "code",
   "execution_count": 22,
   "metadata": {},
   "outputs": [
    {
     "name": "stdout",
     "output_type": "stream",
     "text": [
      "{'Bigotes': 'Hamster', 'Bolacha': 'T-Rex', 'Nemo': 'Pez', 'Taquito': 'Gato'}\n"
     ]
    }
   ],
   "source": [
    "eliminar = input('Escribe que quieres eliminar:')\n",
    "mascotas.pop(eliminar)\n",
    "\n",
    "print(mascotas)"
   ]
  },
  {
   "cell_type": "markdown",
   "metadata": {},
   "source": [
    "Verificar si una clave está presente en un diccionario\n",
    "Descripción: Usando el diccionario creado en el ejercicio 2, verifica si una clave específica está presente en él. La clave a buscar debe ser pasada por el usuario, debereis usar un input().."
   ]
  },
  {
   "cell_type": "code",
   "execution_count": 24,
   "metadata": {},
   "outputs": [
    {
     "name": "stdout",
     "output_type": "stream",
     "text": [
      "True\n"
     ]
    }
   ],
   "source": [
    "buscar = input('Escribe la clave que quieres buscar:')\n",
    "print(buscar in mascotas)"
   ]
  },
  {
   "cell_type": "markdown",
   "metadata": {},
   "source": [
    "Obtener una lista de todos los valores de un diccionario\n",
    "Descripción: Usando el diccionario creado en el ejercicio 2, obtén una lista con todos los valores que contiene."
   ]
  },
  {
   "cell_type": "code",
   "execution_count": 28,
   "metadata": {},
   "outputs": [
    {
     "name": "stdout",
     "output_type": "stream",
     "text": [
      "dict_keys(['Bigotes', 'Bolacha', 'Nemo', 'Taquito']) dict_values(['Hamster', 'T-Rex', 'Pez', 'Gato'])\n"
     ]
    }
   ],
   "source": [
    "print(mascotas.keys(), mascotas.values())"
   ]
  },
  {
   "cell_type": "markdown",
   "metadata": {},
   "source": [
    "Utilizar el método setdefault() para establecer un valor predeterminado si la clave no existe\n",
    "Descripción: Usando el diccionario creado en el ejercicio 2, obten el valor correspondiente a una clave. Si la clave no existe, establece un valor predeterminado y devuelve dicho valor."
   ]
  },
  {
   "cell_type": "code",
   "execution_count": 30,
   "metadata": {},
   "outputs": [
    {
     "name": "stdout",
     "output_type": "stream",
     "text": [
      "Ardilla\n",
      "{'Bigotes': 'Hamster', 'Bolacha': 'T-Rex', 'Nemo': 'Pez', 'Taquito': 'Gato', 'Manuela': 'Ardilla'}\n"
     ]
    }
   ],
   "source": [
    "print(mascotas.setdefault('Manuela', 'Ardilla'))\n",
    "print(mascotas)"
   ]
  },
  {
   "cell_type": "markdown",
   "metadata": {},
   "source": [
    "Manipulación de un diccionario utilizando pop() y popitem()\n",
    "Descripción: Usando el diccionario creado en el ejercicio 2, realiza operaciones de eliminación utilizando pop() y popitem(), y observa cómo afectan al diccionario."
   ]
  },
  {
   "cell_type": "code",
   "execution_count": 31,
   "metadata": {},
   "outputs": [
    {
     "name": "stdout",
     "output_type": "stream",
     "text": [
      "{'Bolacha': 'T-Rex', 'Nemo': 'Pez', 'Taquito': 'Gato', 'Manuela': 'Ardilla'}\n",
      "{'Bolacha': 'T-Rex', 'Nemo': 'Pez', 'Taquito': 'Gato'}\n"
     ]
    }
   ],
   "source": [
    "\n",
    "mascotas.pop('Bigotes')\n",
    "print(mascotas)\n",
    "\n",
    "mascotas.popitem()\n",
    "print(mascotas)"
   ]
  },
  {
   "cell_type": "markdown",
   "metadata": {},
   "source": [
    "Ejercicios sets\n",
    "Crear un conjunto vacío\n",
    "Descripción: Crea un conjunto vacío sin ningún elemento."
   ]
  },
  {
   "cell_type": "code",
   "execution_count": 33,
   "metadata": {},
   "outputs": [],
   "source": [
    "colores = {}"
   ]
  },
  {
   "cell_type": "markdown",
   "metadata": {},
   "source": [
    "Crear un conjunto con elementos\n",
    "Descripción: Crea un conjunto con elementos predefinidos."
   ]
  },
  {
   "cell_type": "code",
   "execution_count": 48,
   "metadata": {},
   "outputs": [],
   "source": [
    "colores = {'rojo', 'naranja', 'amarillo', 'verde', 'azul', 'violeta'}"
   ]
  },
  {
   "cell_type": "markdown",
   "metadata": {},
   "source": [
    "Agregar elementos a un conjunto\n",
    "Descripción: Usando el set creado en el ejercicio 2, agrega nuevos elementos. Debereis agregar por separado:\n",
    "                        Un elemento solo\n",
    "                        Un par de elementos a la vez."
   ]
  },
  {
   "cell_type": "code",
   "execution_count": 49,
   "metadata": {},
   "outputs": [
    {
     "name": "stdout",
     "output_type": "stream",
     "text": [
      "{'rojo', 'violeta', 'azul', 'verde', 'naranja', 'amarillo', 'rosa'}\n"
     ]
    }
   ],
   "source": [
    "colores.add('rosa')\n",
    "print(colores)"
   ]
  },
  {
   "cell_type": "markdown",
   "metadata": {},
   "source": [
    "Agregar por separado:\n",
    "Un elemento solo\n",
    "Un par de elementos a la vez."
   ]
  },
  {
   "cell_type": "code",
   "execution_count": 52,
   "metadata": {},
   "outputs": [
    {
     "name": "stdout",
     "output_type": "stream",
     "text": [
      "{'azul', 'violeta', 'lima', 'naranja', 'rosa', 'Marrón', 'rojo', 'verde', 'Negro', 'amarillo'}\n"
     ]
    }
   ],
   "source": [
    "colores.add('lima')\n",
    "colores_nuevos = ['Marrón', 'Negro']\n",
    "colores.update(colores_nuevos)\n",
    "\n",
    "print(colores)"
   ]
  },
  {
   "cell_type": "markdown",
   "metadata": {},
   "source": [
    "Eliminar un elemento de un conjunto\n",
    "Descripción: Usando el set creado en el ejercicio 2, elimina un elemento especificado por el usuario"
   ]
  },
  {
   "cell_type": "code",
   "execution_count": 53,
   "metadata": {},
   "outputs": [
    {
     "name": "stdout",
     "output_type": "stream",
     "text": [
      "{'azul', 'violeta', 'lima', 'naranja', 'rosa', 'Marrón', 'rojo', 'Negro', 'amarillo'}\n"
     ]
    }
   ],
   "source": [
    "colores.remove('verde')\n",
    "print(colores)"
   ]
  },
  {
   "cell_type": "markdown",
   "metadata": {},
   "source": [
    "Verificar la pertenencia de un elemento en un conjunto\n",
    "Descripción: Usando el set creado en el ejercicio 2, verifica si un elemento específico está presente en él."
   ]
  },
  {
   "cell_type": "code",
   "execution_count": 54,
   "metadata": {},
   "outputs": [
    {
     "name": "stdout",
     "output_type": "stream",
     "text": [
      "Tengo el color rojo en mis colores? True\n"
     ]
    }
   ],
   "source": [
    "print('Tengo el color rojo en mis colores?', 'rojo' in colores)"
   ]
  },
  {
   "cell_type": "markdown",
   "metadata": {},
   "source": [
    "Realizar una unión de conjuntos\n",
    "Descripción: Dados dos conjuntos, realiza una unión de ellos."
   ]
  },
  {
   "cell_type": "code",
   "execution_count": 63,
   "metadata": {},
   "outputs": [
    {
     "name": "stdout",
     "output_type": "stream",
     "text": [
      "{'Marrón', 'gris', 'rojo', 'púrpura', 'azul', 'Negro', 'lila', 'amarillo', 'violeta', 'lima', 'naranja', 'rosa'}\n"
     ]
    }
   ],
   "source": [
    "colores2 = {'gris', 'púrpura', 'lila', 'violeta'}\n",
    "print(colores.union(colores2))"
   ]
  },
  {
   "cell_type": "markdown",
   "metadata": {},
   "source": [
    "Realizar una intersección de conjuntos\n",
    "Descripción: Usando dos conjuntos de datos definidos en el ejercicio anterior, realiza una intersección de ellos."
   ]
  },
  {
   "cell_type": "code",
   "execution_count": 64,
   "metadata": {},
   "outputs": [
    {
     "name": "stdout",
     "output_type": "stream",
     "text": [
      "{'violeta'}\n",
      "{'violeta'}\n"
     ]
    }
   ],
   "source": [
    "print(colores2.intersection(colores))\n",
    "print(colores.intersection(colores2))"
   ]
  },
  {
   "cell_type": "markdown",
   "metadata": {},
   "source": [
    "Realizar una diferencia de conjuntos\n",
    "Descripción: Usando dos conjuntos de datos definidos en el ejercicio anterior, realiza una diferencia entre ellos."
   ]
  },
  {
   "cell_type": "code",
   "execution_count": 65,
   "metadata": {},
   "outputs": [
    {
     "name": "stdout",
     "output_type": "stream",
     "text": [
      "{'Marrón', 'rojo', 'azul', 'Negro', 'amarillo', 'lima', 'naranja', 'rosa'}\n",
      "{'lila', 'gris', 'púrpura'}\n"
     ]
    }
   ],
   "source": [
    "print(colores.difference(colores2))\n",
    "print(colores2.difference(colores))"
   ]
  },
  {
   "cell_type": "markdown",
   "metadata": {},
   "source": [
    "Verificar si un conjunto es subconjunto de otro\n",
    "Descripción: Dados dos conjuntos, verifica si uno es subconjunto del otro."
   ]
  },
  {
   "cell_type": "code",
   "execution_count": 66,
   "metadata": {},
   "outputs": [
    {
     "name": "stdout",
     "output_type": "stream",
     "text": [
      "False\n",
      "False\n"
     ]
    }
   ],
   "source": [
    "print(colores.issubset(colores2))\n",
    "print(colores2.issubset(colores))"
   ]
  }
 ],
 "metadata": {
  "kernelspec": {
   "display_name": "base",
   "language": "python",
   "name": "python3"
  },
  "language_info": {
   "codemirror_mode": {
    "name": "ipython",
    "version": 3
   },
   "file_extension": ".py",
   "mimetype": "text/x-python",
   "name": "python",
   "nbconvert_exporter": "python",
   "pygments_lexer": "ipython3",
   "version": "3.9.7"
  }
 },
 "nbformat": 4,
 "nbformat_minor": 2
}
