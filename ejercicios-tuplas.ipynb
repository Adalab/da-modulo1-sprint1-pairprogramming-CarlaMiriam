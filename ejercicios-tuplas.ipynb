{
 "cells": [
  {
   "cell_type": "markdown",
   "metadata": {},
   "source": [
    "Ejercicios de tuplas\n",
    "\n",
    "1. Acceder al primer elemento de una tupla\n",
    "Descripción: Dada una tupla, obtén el primer elemento.\n"
   ]
  },
  {
   "cell_type": "code",
   "execution_count": null,
   "metadata": {},
   "outputs": [],
   "source": [
    "tupla = ('a', 'b', 'd')\n",
    "print(tupla[0])"
   ]
  },
  {
   "cell_type": "markdown",
   "metadata": {},
   "source": [
    "2. Acceder al último elemento de una tupla\n",
    "Descripción: Dada una tupla, obtén el último elemento."
   ]
  },
  {
   "cell_type": "code",
   "execution_count": null,
   "metadata": {},
   "outputs": [],
   "source": [
    "tupla = ('a', 'b', 'd')\n",
    "print(tupla[-1])"
   ]
  },
  {
   "cell_type": "markdown",
   "metadata": {},
   "source": [
    "3. Obtener la longitud de una tupla\n",
    "Descripción: Dada una tupla, obtén la cantidad de elementos que contiene."
   ]
  },
  {
   "cell_type": "code",
   "execution_count": null,
   "metadata": {},
   "outputs": [],
   "source": [
    "lista = (1, 2, 3, 4, 5, 6)\n",
    "longitud_tupla = len(lista)\n",
    "\n",
    "print(longitud_tupla)"
   ]
  },
  {
   "cell_type": "markdown",
   "metadata": {},
   "source": [
    "4. Concatenar dos tuplas\n",
    "Descripción: Dadas dos tuplas, crea una nueva tupla que contenga todos los elementos de ambas tuplas."
   ]
  },
  {
   "cell_type": "code",
   "execution_count": null,
   "metadata": {},
   "outputs": [],
   "source": [
    "tupla1 = (2, 4, 6, 8, 10)\n",
    "tupla2 = (12, 14, 16)\n",
    "print(tupla1 + tupla2)"
   ]
  },
  {
   "cell_type": "markdown",
   "metadata": {},
   "source": [
    "5. Encontrar el índice de un elemento en una tupla\n",
    "Descripción: Dada una tupla y un valor objetivo, encuentra el índice del primer elemento que coincida con el valor objetivo."
   ]
  },
  {
   "cell_type": "code",
   "execution_count": null,
   "metadata": {},
   "outputs": [],
   "source": [
    "tupla1 = (0, 4, 6, 8, 10)\n",
    "print(tupla1[0])"
   ]
  },
  {
   "cell_type": "markdown",
   "metadata": {},
   "source": [
    "6. Contar ocurrencias de un elemento en una tupla\n",
    "Descripción: Dada una tupla y un valor objetivo, cuenta cuántas veces aparece el valor objetivo en la tupla."
   ]
  },
  {
   "cell_type": "code",
   "execution_count": null,
   "metadata": {},
   "outputs": [],
   "source": [
    "tupla1 = (0, 4, 4, 4, 10)\n",
    "veces_repetido = tupla1.count(4)\n",
    "\n",
    "print(veces_repetido)"
   ]
  },
  {
   "cell_type": "markdown",
   "metadata": {},
   "source": [
    "7. Obtener una subtuple de una tupla\n",
    "Descripción: Dada una tupla, crea una nueva tupla que contenga los elementos desde el índice 1 hasta el índice 3 (sin incluirlo)."
   ]
  },
  {
   "cell_type": "code",
   "execution_count": null,
   "metadata": {},
   "outputs": [],
   "source": [
    "tupla1 = (5, 4, 1, 8, 9)\n",
    "print(tupla1[1:-2])"
   ]
  },
  {
   "cell_type": "markdown",
   "metadata": {},
   "source": [
    "8. Invertir una tupla\n",
    "Descripción: Dada una tupla, inviértela en orden."
   ]
  },
  {
   "cell_type": "code",
   "execution_count": null,
   "metadata": {},
   "outputs": [],
   "source": [
    "tupla1 = (0, 4, 6, 8, 10)\n",
    "print(tupla1[::-1])"
   ]
  }
 ],
 "metadata": {
  "kernelspec": {
   "display_name": "base",
   "language": "python",
   "name": "python3"
  },
  "language_info": {
   "name": "python",
   "version": "3.9.7"
  }
 },
 "nbformat": 4,
 "nbformat_minor": 2
}
