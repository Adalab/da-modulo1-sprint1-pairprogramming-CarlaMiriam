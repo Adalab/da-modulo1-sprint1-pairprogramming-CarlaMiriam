{
 "cells": [
  {
   "cell_type": "markdown",
   "metadata": {},
   "source": [
    "Cread tres variables numéricas de tipo integer (entero), llamadas de la siguiente forma:\n",
    "numero1\n",
    "numero2\n",
    "numero3"
   ]
  },
  {
   "cell_type": "code",
   "execution_count": 1,
   "metadata": {},
   "outputs": [],
   "source": [
    "numero1 = 1\n",
    "numero2 = 2\n",
    "numero3 = 3"
   ]
  },
  {
   "cell_type": "markdown",
   "metadata": {},
   "source": [
    "Utilizando los operadores lógicos:\n",
    "En vuestro caso, es el numero1 mayor que el numero2\n",
    "Es el numero1 menor que el numero2 pero mayor que el numero3\n",
    "Es el numero3 igual que el numero2\n",
    "Es el numero2 distinto que el numero1"
   ]
  },
  {
   "cell_type": "code",
   "execution_count": 2,
   "metadata": {},
   "outputs": [
    {
     "name": "stdout",
     "output_type": "stream",
     "text": [
      "False\n",
      "True\n",
      "False\n",
      "True\n"
     ]
    }
   ],
   "source": [
    "\n",
    "print(numero1 > numero2)\n",
    "print(numero1 < numero2 and numero1 < numero3)\n",
    "print(numero2 == numero3)\n",
    "print(numero2 != numero1)"
   ]
  },
  {
   "cell_type": "markdown",
   "metadata": {},
   "source": [
    "Cread dos variables numéricas de tipo float (decimal) con dos decimales, llamdas de la siguiente forma:\n",
    "altura1\n",
    "altura2"
   ]
  },
  {
   "cell_type": "code",
   "execution_count": 3,
   "metadata": {},
   "outputs": [],
   "source": [
    "\n",
    "altura1 = 1.90\n",
    "altura2 = 1.82"
   ]
  },
  {
   "cell_type": "markdown",
   "metadata": {},
   "source": [
    "Utilizando los operadores matemáticos aprendidos en la lección:\n",
    "Cuál es la suma de las dos alturas\n",
    "Cuál es la diferencia entre las alturas\n",
    "Cuál es el resto de la división de las dos alturas\n",
    "Cuál es resultado de la división de las dos alturas, redondead el resultado a un decimal."
   ]
  },
  {
   "cell_type": "code",
   "execution_count": 4,
   "metadata": {},
   "outputs": [
    {
     "name": "stdout",
     "output_type": "stream",
     "text": [
      "3.7199999999999998\n",
      "0.07999999999999985\n",
      "0.07999999999999985\n"
     ]
    }
   ],
   "source": [
    "print(altura1 + altura2)\n",
    "print(altura1 - altura2)\n",
    "print(altura1 % altura2)"
   ]
  },
  {
   "cell_type": "markdown",
   "metadata": {},
   "source": [
    "Escribid un programa usando la función input() que le pregunte al usuario su nombre y apellidos. Una vez que tengamos el nombre del usuario:\n",
    "Printead su nombre y apellidos todo en mayúsculas\n",
    "Printead su nombre y apellidos todo en minúsculas\n",
    "Printead su nombre y apellidos con la primera letra del nombre y los apellidos en mayúscula y el resto en minúscula.\n",
    "Printeas solo la primera letra del nombre en mayúscula."
   ]
  },
  {
   "cell_type": "code",
   "execution_count": 6,
   "metadata": {},
   "outputs": [
    {
     "name": "stdout",
     "output_type": "stream",
     "text": [
      "CARLA ALVAREZ LOPEZ\n",
      "carla alvarez lopez\n",
      "Carla Alvarez Lopez\n",
      "Carla Alvarez Lopez\n"
     ]
    }
   ],
   "source": [
    "nombre_completo = input('Ingresa tu combre completo')\n",
    "apellido1 = input('Ingresa tu primer appellido')\n",
    "apellido2 = input('Ingresa tu segundo appellido')\n",
    "print(nombre_completo.upper(), apellido1.upper(), apellido2.upper())\n",
    "print(nombre_completo.lower(), apellido1.lower(), apellido2.lower())\n",
    "print(nombre_completo.capitalize(), apellido1.capitalize(), apellido2.capitalize())\n",
    "print(nombre_completo.capitalize(), apellido1, apellido2)"
   ]
  },
  {
   "cell_type": "markdown",
   "metadata": {},
   "source": [
    "Escribid un programa usando la función input() que:\n",
    "Le pregunte al usuario por una frase, almacenad este resultado en una variable.\n",
    "Le pregunte al usuario por una vocal, almacenad este resultado en una variable.\n",
    "Printead la misma frase pero con la vocal introducida en mayúsulas."
   ]
  },
  {
   "cell_type": "code",
   "execution_count": 7,
   "metadata": {},
   "outputs": [
    {
     "name": "stdout",
     "output_type": "stream",
     "text": [
      "El perro de san Roque no tiene rabo A\n"
     ]
    }
   ],
   "source": [
    "dime_una_frase = input('Escribe tu frase:')\n",
    "frase = dime_una_frase\n",
    "\n",
    "dime_una_vocal = input('Escribe una vocal:')\n",
    "vocal = dime_una_vocal\n",
    "\n",
    "print(frase, vocal.upper())"
   ]
  },
  {
   "cell_type": "markdown",
   "metadata": {},
   "source": [
    "Escribid un programa usando la función input() que:\n",
    "Le pregunte al usuario por la lista de la compra, separando cada elemento por comas."
   ]
  },
  {
   "cell_type": "code",
   "execution_count": null,
   "metadata": {},
   "outputs": [],
   "source": [
    "lista_compra = input('introduce la lista de alimentos que necesites:').split()\n",
    "lista = '\\n'.join(lista_compra)\n",
    "print(lista)"
   ]
  }
 ],
 "metadata": {
  "kernelspec": {
   "display_name": "base",
   "language": "python",
   "name": "python3"
  },
  "language_info": {
   "codemirror_mode": {
    "name": "ipython",
    "version": 3
   },
   "file_extension": ".py",
   "mimetype": "text/x-python",
   "name": "python",
   "nbconvert_exporter": "python",
   "pygments_lexer": "ipython3",
   "version": "3.9.7"
  }
 },
 "nbformat": 4,
 "nbformat_minor": 2
}
